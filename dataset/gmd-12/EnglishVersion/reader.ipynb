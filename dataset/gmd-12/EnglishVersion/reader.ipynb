{
 "cells": [
  {
   "cell_type": "code",
   "execution_count": 1,
   "metadata": {},
   "outputs": [],
   "source": [
    "import pickle"
   ]
  },
  {
   "cell_type": "code",
   "execution_count": 2,
   "metadata": {},
   "outputs": [],
   "source": [
    "with open('train.pk','rb') as f:\n",
    "    train_data = pickle.load(f)\n"
   ]
  },
  {
   "cell_type": "code",
   "execution_count": 3,
   "metadata": {},
   "outputs": [
    {
     "name": "stdout",
     "output_type": "stream",
     "text": [
      "<class 'list'> 1912\n"
     ]
    }
   ],
   "source": [
    "print(type(train_data), len(train_data))"
   ]
  },
  {
   "cell_type": "code",
   "execution_count": 4,
   "metadata": {},
   "outputs": [
    {
     "data": {
      "text/plain": [
       "[{'explicit_inform_slots': {'Cough': True,\n",
       "   'Chest tightness and shortness of breath': False},\n",
       "  'implicit_inform_slots': {'Pain behind the breastbone': False,\n",
       "   'Chest tightness': False,\n",
       "   'Hemoptysis': True,\n",
       "   'Expectoration': True},\n",
       "  'disease_tag': 'Esophagitis'},\n",
       " {'explicit_inform_slots': {'Burning sensation behind the breastbone': True,\n",
       "   'Acid reflux': True,\n",
       "   'Chest tightness': False},\n",
       "  'implicit_inform_slots': {'Pain behind the breastbone': False},\n",
       "  'disease_tag': 'Esophagitis'},\n",
       " {'explicit_inform_slots': {'Burning sensation behind the breastbone': True},\n",
       "  'implicit_inform_slots': {'Cough': True, 'Acid reflux': True},\n",
       "  'disease_tag': 'Esophagitis'},\n",
       " {'explicit_inform_slots': {'Acid reflux': True},\n",
       "  'implicit_inform_slots': {'Stomach ache': False,\n",
       "   'Vomiting': True,\n",
       "   'Diarrhea': True,\n",
       "   'Nausea': True,\n",
       "   'Bloating': True},\n",
       "  'disease_tag': 'Esophagitis'}]"
      ]
     },
     "execution_count": 4,
     "metadata": {},
     "output_type": "execute_result"
    }
   ],
   "source": [
    "train_data[0:4]"
   ]
  },
  {
   "cell_type": "code",
   "execution_count": 2,
   "metadata": {},
   "outputs": [],
   "source": [
    "with open('test.pk','rb') as f:\n",
    "    test = pickle.load(f)"
   ]
  }
 ],
 "metadata": {
  "kernelspec": {
   "display_name": "Python 3",
   "language": "python",
   "name": "python3"
  },
  "language_info": {
   "codemirror_mode": {
    "name": "ipython",
    "version": 3
   },
   "file_extension": ".py",
   "mimetype": "text/x-python",
   "name": "python",
   "nbconvert_exporter": "python",
   "pygments_lexer": "ipython3",
   "version": "3.8.5"
  }
 },
 "nbformat": 4,
 "nbformat_minor": 4
}
